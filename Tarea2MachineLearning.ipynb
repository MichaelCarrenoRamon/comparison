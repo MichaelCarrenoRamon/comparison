{
 "cells": [
  {
   "cell_type": "markdown",
   "id": "929196a5-50d3-4bc2-a660-c81ea02a608b",
   "metadata": {},
   "source": [
    "# Modelos de Regresión lineal\n",
    "\n",
    "La regresión lineal es un método estadístico utilizado para modelar la relación entre una variable dependiente (respuesta) y una o más variables independientes (predictoras).\n",
    "\n",
    "# Tipos de regresión lineal\n",
    "Regresión lineal simple: Solo una variable independiente.\n",
    "Ejemplo: predecir el peso según la altura.\n",
    "\n",
    "Regresión lineal múltiple: Dos o más variables independientes.\n",
    "Ejemplo: predecir el precio de una casa usando tamaño, número de habitaciones, ubicación, etc.\n",
    "\n",
    "\n",
    "## 1. Regresión lineal simple\n",
    "\n",
    "Esta es la forma más simple de regresión lineal y solo implica una variable independiente y una variable dependiente. La ecuación de la regresión lineal simple es:\n",
    "\n",
    "$$\n",
    "y = \\beta_{0} + \\beta_{1}X \\\\\n",
    "$$\n",
    "\n",
    "Donde:\n",
    "\n",
    "- Y es la variable dependiente\n",
    "- X es la variable independiente\n",
    "- β0 es la intersección, es decir, el punto donde la línea de regresión interseca el eje y.\n",
    "- β1 es la pendiente, que controla la inclinación de la línea. Si elegimos dos puntos cualesquiera en una línea, la pendiente es el cociente entre la distancia vertical y la horizontal entre esos puntos; esto se suele escribir como elevación/recorrido.\n",
    "El siguiente gráfico muestra una línea con la ecuación y = 2x + 12:\n",
    "\n",
    "## 2. Regresión lineal múltiple\n",
    "\n",
    "Esto implica más de una variable independiente y una variable dependiente. La ecuación de la regresión lineal múltiple es:\n",
    "\n",
    "$$\n",
    "y = \\beta_{0}+\\beta_{1}X1+\\beta_{2}X2+.........\\beta_{n}Xp \\\\\n",
    "$$\n",
    "\n",
    "Donde:\n",
    "\n",
    "- Y es la variable dependiente\n",
    "- X1, X2, …, Xp son las variables independientes\n",
    "- β0 es la intersección\n",
    "- β1, β2, …, βn son las pendientes\n",
    "\n",
    "El objetivo del algoritmo es encontrar la ecuación de la recta de ajuste óptima que prediga los valores basándose en las variables independientes."
   ]
  },
  {
   "cell_type": "code",
   "execution_count": null,
   "id": "cc325231-222d-4839-8938-be3275d02947",
   "metadata": {},
   "outputs": [],
   "source": [
    "# 1. Importar las bibliotecas necesarias\n",
    "\n",
    "import numpy as np\n",
    "import pandas as pd\n",
    "import matplotlib.pyplot as plt\n",
    "import seaborn as sns\n",
    "from sklearn.datasets import fetch_california_housing\n",
    "from sklearn.linear_model import LinearRegression\n",
    "from sklearn.model_selection import train_test_split\n",
    "from sklearn.metrics import mean_squared_error, r2_score\n",
    "\n"
   ]
  },
  {
   "cell_type": "markdown",
   "id": "beaf843e-9f4a-4e23-accd-c88d60739a7b",
   "metadata": {},
   "source": [
    "### Conjunto de datos: California Housing Dataset\n",
    "Nombre en scikit-learn: fetch_california_housing()\n",
    "\n",
    "Descripción: Predice el precio medio de casas en distritos de California usando variables como ingreso medio, número de habitaciones, etc."
   ]
  },
  {
   "cell_type": "code",
   "execution_count": null,
   "id": "8f391b3e-e16d-4d04-b9fb-e9b4ad4c2127",
   "metadata": {},
   "outputs": [],
   "source": [
    "# 2. Cargar datos\n",
    "data = fetch_california_housing(as_frame=True)\n",
    "df = data.frame  # DataFrame\n",
    "df.head()"
   ]
  },
  {
   "cell_type": "code",
   "execution_count": null,
   "id": "24e75647-476b-4798-940f-be8f8cbbe1b1",
   "metadata": {},
   "outputs": [],
   "source": [
    "# 3. Inspeccionar los datos\n",
    "\n",
    "print(df.info())\n",
    "print(df.describe())\n"
   ]
  },
  {
   "cell_type": "code",
   "execution_count": null,
   "id": "78c2a7dd-205b-4a49-9bcc-c0bb6240fe37",
   "metadata": {},
   "outputs": [],
   "source": [
    "# 4. Visualizar la relación entre las variables\n",
    "sns.pairplot(df[['MedInc', 'AveRooms', 'AveOccup', 'HouseAge', 'MedHouseVal']])\n",
    "plt.suptitle(\"Relaciones entre variables\", y=1.02)\n",
    "plt.show()"
   ]
  },
  {
   "cell_type": "code",
   "execution_count": null,
   "id": "74c9a376-01e2-45e0-b9e4-4fa6f3a377ac",
   "metadata": {},
   "outputs": [],
   "source": [
    "# 5. Separar variables independientes y dependiente\n",
    "\n",
    "X = df.drop(columns='MedHouseVal')  # variables independientes\n",
    "y = df['MedHouseVal']  # variable dependiente\n"
   ]
  },
  {
   "cell_type": "code",
   "execution_count": null,
   "id": "eefdf4c1-1327-452b-8195-4cb69e3cbd25",
   "metadata": {},
   "outputs": [],
   "source": [
    "# 6. Separar datos en conjuntos de entrenamiento y prueba\n",
    "\n",
    "\n",
    "X_train, X_test, y_train, y_test = train_test_split(X, y, test_size=0.2, random_state=42)\n"
   ]
  },
  {
   "cell_type": "code",
   "execution_count": null,
   "id": "983afa04-d791-42af-8402-a2edb1a577a7",
   "metadata": {},
   "outputs": [],
   "source": [
    "# 7. Crear y entrenar el modelo de regresión lineal\n",
    "\n",
    "modelo = LinearRegression()\n",
    "modelo.fit(X_train, y_train)"
   ]
  },
  {
   "cell_type": "code",
   "execution_count": null,
   "id": "87df54c5-2167-427d-a761-a1581a198c29",
   "metadata": {},
   "outputs": [],
   "source": [
    "# 8. Revisar coeficientes del modelo\n",
    "\n",
    "coeficientes = pd.DataFrame({\n",
    "    'Variable': X.columns,\n",
    "    'Coeficiente': modelo.coef_\n",
    "})\n",
    "print(f\"Intercepto: {modelo.intercept_:.4f}\")\n",
    "print(coeficientes)"
   ]
  },
  {
   "cell_type": "markdown",
   "id": "886637a8-5ad8-496e-aabc-53244178d589",
   "metadata": {},
   "source": [
    "\n",
    "### Ecuación del modelo de regresión lineal múltiple\n",
    "\n",
    "El modelo entrenado tiene la siguiente forma:\n",
    "\n",
    "MedHouseVal = intercepto + coef1 * MedInc + coef2 * HouseAge + coef3 * AveRooms + ..."
   ]
  },
  {
   "cell_type": "code",
   "execution_count": null,
   "id": "ea4b39e8-a789-4584-af86-2bb6e41188c7",
   "metadata": {},
   "outputs": [],
   "source": [
    "# 10. Realizar predicciones sobre el conjunto de prueba\n",
    "\n",
    "y_pred = modelo.predict(X_test)\n",
    "y_pred"
   ]
  },
  {
   "cell_type": "code",
   "execution_count": null,
   "id": "7dd3643b-22ca-4f85-86a9-1c6fcbde60e8",
   "metadata": {},
   "outputs": [],
   "source": [
    "# 11. Evaluar el modelo\n",
    "\n",
    "mse = mean_squared_error(y_test, y_pred)\n",
    "r2 = r2_score(y_test, y_pred)\n",
    "print(f\"Error cuadrático medio (MSE): {mse:.4f}\")\n",
    "print(f\"Coeficiente de determinación (R²): {r2:.4f}\")\n"
   ]
  },
  {
   "cell_type": "code",
   "execution_count": null,
   "id": "01977191-3e3a-4e36-ba14-c3c3667d670c",
   "metadata": {},
   "outputs": [],
   "source": [
    "# 12. Visualizar predicciones frente a valores reales\n",
    "\n",
    "plt.figure(figsize=(8, 6))\n",
    "plt.scatter(y_test, y_pred, alpha=0.5)\n",
    "plt.plot([y.min(), y.max()], [y.min(), y.max()], '--r')\n",
    "plt.xlabel('Valor real')\n",
    "plt.ylabel('Valor predicho')\n",
    "plt.title('Valor real vs. valor predicho')\n",
    "plt.show()"
   ]
  },
  {
   "cell_type": "code",
   "execution_count": null,
   "id": "011deabf-4997-4dba-aa6a-f8b83db07f76",
   "metadata": {},
   "outputs": [],
   "source": [
    "# 13. Conclusión\n",
    "# - Se ha entrenado un modelo de regresión lineal múltiple con datos reales.\n",
    "# - Se evaluó usando el error cuadrático medio y el coeficiente de determinación.\n",
    "# - La visualización permite comparar los valores predichos con los reales.\n",
    "# - Este modelo puede mejorarse usando técnicas como regularización, selección de variables o modelos no lineales.\n",
    "\n",
    "# Podrías probar con modelos como RandomForestRegressor o XGBoost u otros???"
   ]
  },
  {
   "cell_type": "markdown",
   "id": "9f800d4e-b3f0-4664-8163-43c464189ab4",
   "metadata": {},
   "source": [
    "\n",
    "# Agrupamiento con K-Means usando el conjunto de datos Iris\n",
    "\n",
    " \n",
    "Este notebook explica paso a paso cómo funciona el algoritmo K-Means con un conjunto de datos disponible en scikit-learn.\n"
   ]
  },
  {
   "cell_type": "code",
   "execution_count": null,
   "id": "f13d0202-7d13-48d1-8254-b147566d0923",
   "metadata": {},
   "outputs": [],
   "source": [
    "# 1. Importar bibliotecas necesarias\n",
    "\n",
    "import pandas as pd\n",
    "import seaborn as sns\n",
    "import matplotlib.pyplot as plt\n",
    "from sklearn.datasets import load_iris\n",
    "from sklearn.cluster import KMeans\n",
    "from sklearn.decomposition import PCA\n"
   ]
  },
  {
   "cell_type": "code",
   "execution_count": null,
   "id": "c65f50f9-88db-4142-8cf0-dd8540804bf1",
   "metadata": {},
   "outputs": [],
   "source": [
    "# 2. Cargar el conjunto de datos Iris\n",
    "\n",
    "data = load_iris()\n",
    "df = pd.DataFrame(data.data, columns=data.feature_names)\n",
    "df['target'] = data.target\n",
    "print(df.head())"
   ]
  },
  {
   "cell_type": "code",
   "execution_count": null,
   "id": "b15313e4-5242-4fba-bc07-eb5aa550434d",
   "metadata": {},
   "outputs": [],
   "source": [
    "# 3. Visualizar los datos con las verdaderas etiquetas\n",
    "\n",
    "sns.pairplot(df, hue='target', vars=data.feature_names)\n",
    "plt.suptitle(\"Visualización de clases reales del conjunto Iris\", y=1.02)\n",
    "plt.show()\n"
   ]
  },
  {
   "cell_type": "code",
   "execution_count": null,
   "id": "00b17802-655d-4b13-bcfe-d0d4acb71381",
   "metadata": {},
   "outputs": [],
   "source": [
    "df"
   ]
  },
  {
   "cell_type": "code",
   "execution_count": null,
   "id": "565138f1-f0bc-4021-9c0f-d7186b8c8fb0",
   "metadata": {},
   "outputs": [],
   "source": [
    "# 4. Aplicar el algoritmo K-Means\n",
    "\n",
    "x = df[data.feature_names]  # Solo usamos las características\n",
    "kmeans = KMeans(n_clusters=3, random_state=42)\n",
    "kmeans.fit(x)\n",
    "df['cluster'] = kmeans.labels_  # Guardar los grupos asignados\n"
   ]
  },
  {
   "cell_type": "code",
   "execution_count": null,
   "id": "0fbd3beb-00d3-4625-9acc-a4c6218bb57f",
   "metadata": {},
   "outputs": [],
   "source": [
    "# 5. Visualizar los clusters asignados por K-Means con reducción de dimensiones (PCA)\n",
    "\n",
    "pca = PCA(n_components=2)\n",
    "x_pca = pca.fit_transform(x)\n",
    "df['pca1'] = x_pca[:, 0]\n",
    "df['pca2'] = x_pca[:, 1]\n",
    "plt.figure(figsize=(8, 6))\n",
    "sns.scatterplot(x='pca1', y='pca2', hue='cluster', data=df, palette='Set1')\n",
    "plt.title(\"Clusters encontrados por K-Means en 2D\")\n",
    "plt.show()\n"
   ]
  },
  {
   "cell_type": "code",
   "execution_count": null,
   "id": "0e63c315-fec1-4aa0-8c5e-d2e76203a002",
   "metadata": {},
   "outputs": [],
   "source": [
    "\n",
    "# 6. Comparar con las etiquetas reales\n",
    "\n",
    "plt.figure(figsize=(8, 6))\n",
    "sns.scatterplot(x='pca1', y='pca2', hue='target', data=df, palette='Set2')\n",
    "plt.title(\"Etiquetas reales del conjunto Iris en 2D\")\n",
    "plt.show()\n",
    "\n"
   ]
  },
  {
   "cell_type": "code",
   "execution_count": null,
   "id": "2e53633f-eeb6-430a-a71c-509d1e41833a",
   "metadata": {},
   "outputs": [],
   "source": [
    "\n",
    "# 7. Conclusión\n",
    "# - K-Means logró identificar patrones en los datos sin usar las etiquetas reales.\n",
    "# - La visualización con PCA permitió observar qué tan bien se formaron los grupos.\n",
    "# - El número de clusters debe elegirse con base en el problema; en este caso usamos 3 porque conocemos que hay tres especies.\n"
   ]
  }
 ],
 "metadata": {
  "kernelspec": {
   "display_name": "Python [conda env:base] *",
   "language": "python",
   "name": "conda-base-py"
  },
  "language_info": {
   "codemirror_mode": {
    "name": "ipython",
    "version": 3
   },
   "file_extension": ".py",
   "mimetype": "text/x-python",
   "name": "python",
   "nbconvert_exporter": "python",
   "pygments_lexer": "ipython3",
   "version": "3.12.7"
  }
 },
 "nbformat": 4,
 "nbformat_minor": 5
}
